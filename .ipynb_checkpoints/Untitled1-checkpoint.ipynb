{
 "cells": [
  {
   "cell_type": "markdown",
   "id": "lucky-russia",
   "metadata": {},
   "source": [
    "# Lyft - US"
   ]
  },
  {
   "cell_type": "code",
   "execution_count": 8,
   "id": "powerful-mortgage",
   "metadata": {},
   "outputs": [],
   "source": [
    "import pandas as pd"
   ]
  },
  {
   "cell_type": "code",
   "execution_count": 9,
   "id": "adult-maximum",
   "metadata": {},
   "outputs": [],
   "source": [
    "# dez_2019 = 'data/lyft-USA/201912-baywheels-tripdata.csv'\n",
    "dez_2020 = 'data/lyft-USA/202012-baywheels-tripdata.csv'"
   ]
  },
  {
   "cell_type": "code",
   "execution_count": 10,
   "id": "roman-evolution",
   "metadata": {},
   "outputs": [],
   "source": [
    "# df_dez_2019= pd.read_csv(dez_2019)\n",
    "# df_dez_2019"
   ]
  },
  {
   "cell_type": "code",
   "execution_count": 11,
   "id": "hourly-sewing",
   "metadata": {},
   "outputs": [
    {
     "data": {
      "text/html": [
       "<div>\n",
       "<style scoped>\n",
       "    .dataframe tbody tr th:only-of-type {\n",
       "        vertical-align: middle;\n",
       "    }\n",
       "\n",
       "    .dataframe tbody tr th {\n",
       "        vertical-align: top;\n",
       "    }\n",
       "\n",
       "    .dataframe thead th {\n",
       "        text-align: right;\n",
       "    }\n",
       "</style>\n",
       "<table border=\"1\" class=\"dataframe\">\n",
       "  <thead>\n",
       "    <tr style=\"text-align: right;\">\n",
       "      <th></th>\n",
       "      <th>ride_id</th>\n",
       "      <th>rideable_type</th>\n",
       "      <th>started_at</th>\n",
       "      <th>ended_at</th>\n",
       "      <th>start_station_name</th>\n",
       "      <th>start_station_id</th>\n",
       "      <th>end_station_name</th>\n",
       "      <th>end_station_id</th>\n",
       "      <th>start_lat</th>\n",
       "      <th>start_lng</th>\n",
       "      <th>end_lat</th>\n",
       "      <th>end_lng</th>\n",
       "      <th>member_casual</th>\n",
       "    </tr>\n",
       "  </thead>\n",
       "  <tbody>\n",
       "    <tr>\n",
       "      <th>0</th>\n",
       "      <td>3D9845E1B2804C08</td>\n",
       "      <td>electric_bike</td>\n",
       "      <td>2020-12-26 10:19:34</td>\n",
       "      <td>2020-12-26 10:22:27</td>\n",
       "      <td>NaN</td>\n",
       "      <td>NaN</td>\n",
       "      <td>NaN</td>\n",
       "      <td>NaN</td>\n",
       "      <td>37.770000</td>\n",
       "      <td>-122.450000</td>\n",
       "      <td>37.760000</td>\n",
       "      <td>-122.450000</td>\n",
       "      <td>member</td>\n",
       "    </tr>\n",
       "    <tr>\n",
       "      <th>1</th>\n",
       "      <td>F3DB8D3050725894</td>\n",
       "      <td>electric_bike</td>\n",
       "      <td>2020-12-06 12:28:33</td>\n",
       "      <td>2020-12-06 12:37:29</td>\n",
       "      <td>NaN</td>\n",
       "      <td>NaN</td>\n",
       "      <td>NaN</td>\n",
       "      <td>NaN</td>\n",
       "      <td>37.770000</td>\n",
       "      <td>-122.480000</td>\n",
       "      <td>37.770000</td>\n",
       "      <td>-122.450000</td>\n",
       "      <td>member</td>\n",
       "    </tr>\n",
       "    <tr>\n",
       "      <th>2</th>\n",
       "      <td>150C11B009DAD946</td>\n",
       "      <td>electric_bike</td>\n",
       "      <td>2020-12-15 09:35:57</td>\n",
       "      <td>2020-11-25 07:40:52</td>\n",
       "      <td>NaN</td>\n",
       "      <td>NaN</td>\n",
       "      <td>NaN</td>\n",
       "      <td>NaN</td>\n",
       "      <td>37.760000</td>\n",
       "      <td>-122.450000</td>\n",
       "      <td>37.780000</td>\n",
       "      <td>-122.420000</td>\n",
       "      <td>member</td>\n",
       "    </tr>\n",
       "    <tr>\n",
       "      <th>3</th>\n",
       "      <td>055A3F9E3CFAA764</td>\n",
       "      <td>electric_bike</td>\n",
       "      <td>2020-12-15 14:21:44</td>\n",
       "      <td>2020-12-15 14:32:55</td>\n",
       "      <td>NaN</td>\n",
       "      <td>NaN</td>\n",
       "      <td>NaN</td>\n",
       "      <td>NaN</td>\n",
       "      <td>37.790000</td>\n",
       "      <td>-122.420000</td>\n",
       "      <td>37.770000</td>\n",
       "      <td>-122.440000</td>\n",
       "      <td>member</td>\n",
       "    </tr>\n",
       "    <tr>\n",
       "      <th>4</th>\n",
       "      <td>77CB40EC8FEBC219</td>\n",
       "      <td>electric_bike</td>\n",
       "      <td>2020-12-08 13:05:29</td>\n",
       "      <td>2020-12-08 13:06:44</td>\n",
       "      <td>NaN</td>\n",
       "      <td>NaN</td>\n",
       "      <td>NaN</td>\n",
       "      <td>NaN</td>\n",
       "      <td>37.790000</td>\n",
       "      <td>-122.420000</td>\n",
       "      <td>37.790000</td>\n",
       "      <td>-122.420000</td>\n",
       "      <td>member</td>\n",
       "    </tr>\n",
       "    <tr>\n",
       "      <th>...</th>\n",
       "      <td>...</td>\n",
       "      <td>...</td>\n",
       "      <td>...</td>\n",
       "      <td>...</td>\n",
       "      <td>...</td>\n",
       "      <td>...</td>\n",
       "      <td>...</td>\n",
       "      <td>...</td>\n",
       "      <td>...</td>\n",
       "      <td>...</td>\n",
       "      <td>...</td>\n",
       "      <td>...</td>\n",
       "      <td>...</td>\n",
       "    </tr>\n",
       "    <tr>\n",
       "      <th>106417</th>\n",
       "      <td>6CB07C6AFE6561BC</td>\n",
       "      <td>electric_bike</td>\n",
       "      <td>2020-12-28 07:19:19</td>\n",
       "      <td>2020-12-28 07:28:41</td>\n",
       "      <td>4th St at 16th St</td>\n",
       "      <td>SF-M30</td>\n",
       "      <td>Heron's Head Park</td>\n",
       "      <td>SF-V32</td>\n",
       "      <td>37.766976</td>\n",
       "      <td>-122.390798</td>\n",
       "      <td>37.740510</td>\n",
       "      <td>-122.376471</td>\n",
       "      <td>casual</td>\n",
       "    </tr>\n",
       "    <tr>\n",
       "      <th>106418</th>\n",
       "      <td>6EFCB11613F61FBC</td>\n",
       "      <td>electric_bike</td>\n",
       "      <td>2020-12-29 07:19:53</td>\n",
       "      <td>2020-12-29 07:31:16</td>\n",
       "      <td>4th St at 16th St</td>\n",
       "      <td>SF-M30</td>\n",
       "      <td>Heron's Head Park</td>\n",
       "      <td>SF-V32</td>\n",
       "      <td>37.766948</td>\n",
       "      <td>-122.390778</td>\n",
       "      <td>37.740531</td>\n",
       "      <td>-122.376482</td>\n",
       "      <td>casual</td>\n",
       "    </tr>\n",
       "    <tr>\n",
       "      <th>106419</th>\n",
       "      <td>D4DF4BFB58FF4834</td>\n",
       "      <td>electric_bike</td>\n",
       "      <td>2020-12-31 07:18:31</td>\n",
       "      <td>2020-12-31 07:28:16</td>\n",
       "      <td>4th St at 16th St</td>\n",
       "      <td>SF-M30</td>\n",
       "      <td>Heron's Head Park</td>\n",
       "      <td>SF-V32</td>\n",
       "      <td>37.766953</td>\n",
       "      <td>-122.390764</td>\n",
       "      <td>37.740469</td>\n",
       "      <td>-122.376532</td>\n",
       "      <td>casual</td>\n",
       "    </tr>\n",
       "    <tr>\n",
       "      <th>106420</th>\n",
       "      <td>BE4C1C553CD05D78</td>\n",
       "      <td>electric_bike</td>\n",
       "      <td>2020-12-18 07:11:10</td>\n",
       "      <td>2020-12-18 07:22:28</td>\n",
       "      <td>4th St at 16th St</td>\n",
       "      <td>SF-M30</td>\n",
       "      <td>Heron's Head Park</td>\n",
       "      <td>SF-V32</td>\n",
       "      <td>37.767099</td>\n",
       "      <td>-122.391054</td>\n",
       "      <td>37.740519</td>\n",
       "      <td>-122.376478</td>\n",
       "      <td>casual</td>\n",
       "    </tr>\n",
       "    <tr>\n",
       "      <th>106421</th>\n",
       "      <td>DBFEBC906EB8C857</td>\n",
       "      <td>electric_bike</td>\n",
       "      <td>2020-12-30 07:14:53</td>\n",
       "      <td>2020-12-30 07:25:47</td>\n",
       "      <td>4th St at 16th St</td>\n",
       "      <td>SF-M30</td>\n",
       "      <td>Heron's Head Park</td>\n",
       "      <td>SF-V32</td>\n",
       "      <td>37.766957</td>\n",
       "      <td>-122.390908</td>\n",
       "      <td>37.740578</td>\n",
       "      <td>-122.376466</td>\n",
       "      <td>casual</td>\n",
       "    </tr>\n",
       "  </tbody>\n",
       "</table>\n",
       "<p>106422 rows × 13 columns</p>\n",
       "</div>"
      ],
      "text/plain": [
       "                 ride_id  rideable_type           started_at  \\\n",
       "0       3D9845E1B2804C08  electric_bike  2020-12-26 10:19:34   \n",
       "1       F3DB8D3050725894  electric_bike  2020-12-06 12:28:33   \n",
       "2       150C11B009DAD946  electric_bike  2020-12-15 09:35:57   \n",
       "3       055A3F9E3CFAA764  electric_bike  2020-12-15 14:21:44   \n",
       "4       77CB40EC8FEBC219  electric_bike  2020-12-08 13:05:29   \n",
       "...                  ...            ...                  ...   \n",
       "106417  6CB07C6AFE6561BC  electric_bike  2020-12-28 07:19:19   \n",
       "106418  6EFCB11613F61FBC  electric_bike  2020-12-29 07:19:53   \n",
       "106419  D4DF4BFB58FF4834  electric_bike  2020-12-31 07:18:31   \n",
       "106420  BE4C1C553CD05D78  electric_bike  2020-12-18 07:11:10   \n",
       "106421  DBFEBC906EB8C857  electric_bike  2020-12-30 07:14:53   \n",
       "\n",
       "                   ended_at start_station_name start_station_id  \\\n",
       "0       2020-12-26 10:22:27                NaN              NaN   \n",
       "1       2020-12-06 12:37:29                NaN              NaN   \n",
       "2       2020-11-25 07:40:52                NaN              NaN   \n",
       "3       2020-12-15 14:32:55                NaN              NaN   \n",
       "4       2020-12-08 13:06:44                NaN              NaN   \n",
       "...                     ...                ...              ...   \n",
       "106417  2020-12-28 07:28:41  4th St at 16th St           SF-M30   \n",
       "106418  2020-12-29 07:31:16  4th St at 16th St           SF-M30   \n",
       "106419  2020-12-31 07:28:16  4th St at 16th St           SF-M30   \n",
       "106420  2020-12-18 07:22:28  4th St at 16th St           SF-M30   \n",
       "106421  2020-12-30 07:25:47  4th St at 16th St           SF-M30   \n",
       "\n",
       "         end_station_name end_station_id  start_lat   start_lng    end_lat  \\\n",
       "0                     NaN            NaN  37.770000 -122.450000  37.760000   \n",
       "1                     NaN            NaN  37.770000 -122.480000  37.770000   \n",
       "2                     NaN            NaN  37.760000 -122.450000  37.780000   \n",
       "3                     NaN            NaN  37.790000 -122.420000  37.770000   \n",
       "4                     NaN            NaN  37.790000 -122.420000  37.790000   \n",
       "...                   ...            ...        ...         ...        ...   \n",
       "106417  Heron's Head Park         SF-V32  37.766976 -122.390798  37.740510   \n",
       "106418  Heron's Head Park         SF-V32  37.766948 -122.390778  37.740531   \n",
       "106419  Heron's Head Park         SF-V32  37.766953 -122.390764  37.740469   \n",
       "106420  Heron's Head Park         SF-V32  37.767099 -122.391054  37.740519   \n",
       "106421  Heron's Head Park         SF-V32  37.766957 -122.390908  37.740578   \n",
       "\n",
       "           end_lng member_casual  \n",
       "0      -122.450000        member  \n",
       "1      -122.450000        member  \n",
       "2      -122.420000        member  \n",
       "3      -122.440000        member  \n",
       "4      -122.420000        member  \n",
       "...            ...           ...  \n",
       "106417 -122.376471        casual  \n",
       "106418 -122.376482        casual  \n",
       "106419 -122.376532        casual  \n",
       "106420 -122.376478        casual  \n",
       "106421 -122.376466        casual  \n",
       "\n",
       "[106422 rows x 13 columns]"
      ]
     },
     "execution_count": 11,
     "metadata": {},
     "output_type": "execute_result"
    }
   ],
   "source": [
    "df= pd.read_csv(dez_2020)\n",
    "df"
   ]
  },
  {
   "cell_type": "code",
   "execution_count": 12,
   "id": "imported-thousand",
   "metadata": {},
   "outputs": [
    {
     "name": "stdout",
     "output_type": "stream",
     "text": [
      "<class 'pandas.core.frame.DataFrame'>\n",
      "RangeIndex: 106422 entries, 0 to 106421\n",
      "Data columns (total 13 columns):\n",
      " #   Column              Non-Null Count   Dtype  \n",
      "---  ------              --------------   -----  \n",
      " 0   ride_id             106422 non-null  object \n",
      " 1   rideable_type       106422 non-null  object \n",
      " 2   started_at          106422 non-null  object \n",
      " 3   ended_at            106422 non-null  object \n",
      " 4   start_station_name  78935 non-null   object \n",
      " 5   start_station_id    78935 non-null   object \n",
      " 6   end_station_name    76570 non-null   object \n",
      " 7   end_station_id      76570 non-null   object \n",
      " 8   start_lat           106422 non-null  float64\n",
      " 9   start_lng           106422 non-null  float64\n",
      " 10  end_lat             106311 non-null  float64\n",
      " 11  end_lng             106311 non-null  float64\n",
      " 12  member_casual       106422 non-null  object \n",
      "dtypes: float64(4), object(9)\n",
      "memory usage: 10.6+ MB\n"
     ]
    }
   ],
   "source": [
    "df.info()"
   ]
  },
  {
   "cell_type": "code",
   "execution_count": 13,
   "id": "developed-bumper",
   "metadata": {},
   "outputs": [
    {
     "name": "stdout",
     "output_type": "stream",
     "text": [
      "ride_id                   0\n",
      "rideable_type             0\n",
      "started_at                0\n",
      "ended_at                  0\n",
      "start_station_name    27487\n",
      "start_station_id      27487\n",
      "end_station_name      29852\n",
      "end_station_id        29852\n",
      "start_lat                 0\n",
      "start_lng                 0\n",
      "end_lat                 111\n",
      "end_lng                 111\n",
      "member_casual             0\n",
      "dtype: int64\n"
     ]
    }
   ],
   "source": [
    "# print the sum of null values \n",
    "print(df.isnull().sum())"
   ]
  },
  {
   "cell_type": "code",
   "execution_count": 19,
   "id": "decent-stockholm",
   "metadata": {},
   "outputs": [
    {
     "data": {
      "text/plain": [
       "21284.4"
      ]
     },
     "execution_count": 19,
     "metadata": {},
     "output_type": "execute_result"
    }
   ],
   "source": [
    "# how much is 20% of miss values?\n",
    "max_null_values = 106422*.2\n",
    "max_null_values"
   ]
  },
  {
   "cell_type": "markdown",
   "id": "buried-rebel",
   "metadata": {},
   "source": [
    "The columns start_station_name, start_station_id, end_station_name, end_station_id has too manu nulls, buit I am not droping them, because their analysis can be interesting"
   ]
  },
  {
   "cell_type": "code",
   "execution_count": 16,
   "id": "overall-graduate",
   "metadata": {},
   "outputs": [
    {
     "data": {
      "text/plain": [
       "0.2582830617729417"
      ]
     },
     "execution_count": 16,
     "metadata": {},
     "output_type": "execute_result"
    }
   ],
   "source": [
    " "
   ]
  },
  {
   "cell_type": "code",
   "execution_count": 17,
   "id": "streaming-bulletin",
   "metadata": {},
   "outputs": [
    {
     "data": {
      "text/plain": [
       "0.28050591043205353"
      ]
     },
     "execution_count": 17,
     "metadata": {},
     "output_type": "execute_result"
    }
   ],
   "source": []
  },
  {
   "cell_type": "code",
   "execution_count": null,
   "id": "textile-championship",
   "metadata": {},
   "outputs": [],
   "source": []
  },
  {
   "cell_type": "code",
   "execution_count": null,
   "id": "unusual-nightlife",
   "metadata": {},
   "outputs": [],
   "source": []
  },
  {
   "cell_type": "code",
   "execution_count": null,
   "id": "vietnamese-microphone",
   "metadata": {},
   "outputs": [],
   "source": []
  },
  {
   "cell_type": "code",
   "execution_count": null,
   "id": "brief-cowboy",
   "metadata": {},
   "outputs": [],
   "source": []
  },
  {
   "cell_type": "code",
   "execution_count": null,
   "id": "proof-spectacular",
   "metadata": {},
   "outputs": [],
   "source": []
  },
  {
   "cell_type": "code",
   "execution_count": null,
   "id": "promotional-subsection",
   "metadata": {},
   "outputs": [],
   "source": []
  },
  {
   "cell_type": "code",
   "execution_count": null,
   "id": "filled-electric",
   "metadata": {},
   "outputs": [],
   "source": []
  },
  {
   "cell_type": "code",
   "execution_count": null,
   "id": "limited-latitude",
   "metadata": {},
   "outputs": [],
   "source": []
  },
  {
   "cell_type": "code",
   "execution_count": null,
   "id": "final-corps",
   "metadata": {},
   "outputs": [],
   "source": []
  }
 ],
 "metadata": {
  "kernelspec": {
   "display_name": "Python 3",
   "language": "python",
   "name": "python3"
  },
  "language_info": {
   "codemirror_mode": {
    "name": "ipython",
    "version": 3
   },
   "file_extension": ".py",
   "mimetype": "text/x-python",
   "name": "python",
   "nbconvert_exporter": "python",
   "pygments_lexer": "ipython3",
   "version": "3.9.1"
  }
 },
 "nbformat": 4,
 "nbformat_minor": 5
}
